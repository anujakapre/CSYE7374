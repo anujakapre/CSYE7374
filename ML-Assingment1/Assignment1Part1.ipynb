{
 "cells": [
  {
   "cell_type": "code",
   "execution_count": 1,
   "metadata": {
    "scrolled": true
   },
   "outputs": [
    {
     "name": "stderr",
     "output_type": "stream",
     "text": [
      "Using TensorFlow backend.\n"
     ]
    }
   ],
   "source": [
    "%matplotlib inline\n",
    "%load_ext autoreload\n",
    "%autoreload 2\n",
    "import numpy as np\n",
    "import matplotlib as mpl\n",
    "import matplotlib.pyplot as pltfrom \n",
    "\n",
    "from keras.datasets import cifar10\n",
    "from keras.models import Sequential\n",
    "from keras.layers.core import Dense, Dropout, Activation\n",
    "from keras.optimizers import RMSprop\n",
    "from keras.utils import np_utils\n",
    "import seaborn as sns \n",
    "sns.set_style('white')\n"
   ]
  },
  {
   "cell_type": "code",
   "execution_count": 2,
   "metadata": {
    "collapsed": true
   },
   "outputs": [],
   "source": [
    "# %load helpers.py\n",
    "import numpy as np\n",
    "import contextlib\n",
    "\n",
    "def combine_histories(h1, h2):\n",
    "    \"\"\"\n",
    "    Combine two history dicts -- appends the value lists to each other.\n",
    "\n",
    "    Returns new dict.\n",
    "    \"\"\"\n",
    "    d = {}\n",
    "    for k in h1:\n",
    "        d[k] = np.append(h1[k],h2[k])\n",
    "    return d\n",
    "\n",
    "\n",
    "# Some magic to make numpy arrays look prettier\n",
    "@contextlib.contextmanager\n",
    "def printoptions(*args, **kwargs):\n",
    "    original = np.get_printoptions()\n",
    "    np.set_printoptions(*args, **kwargs)\n",
    "    yield \n",
    "    np.set_printoptions(**original)\n"
   ]
  },
  {
   "cell_type": "code",
   "execution_count": 3,
   "metadata": {
    "collapsed": true
   },
   "outputs": [],
   "source": [
    "# %load display.py\n",
    "\"\"\"\n",
    "Display utilities.\n",
    "\"\"\"\n",
    "# (Note: I ran\n",
    "# pip install pydot==1.1.0\n",
    "# and pip install graphviz\n",
    "# and installed the graphviz OS X package with binary libraries\n",
    "# to get this to work. May not actually need the pydot downgrade...)\n",
    "from IPython.display import SVG\n",
    "\n",
    "import keras\n",
    "try:\n",
    "    from keras.utils.vis_utils import model_to_dot\n",
    "except ImportError:\n",
    "    # 1.x had a different module name.\n",
    "    from keras.utils.visualize_util import model_to_dot\n",
    "    \n",
    "\n",
    "import itertools as it\n",
    "import matplotlib as mpl\n",
    "import matplotlib.pyplot as plt\n",
    "import numpy as np\n",
    "import seaborn as sns\n",
    "\n",
    "from sklearn.metrics import confusion_matrix\n",
    "\n",
    "\n",
    "def visualize_keras_model(model):\n",
    "    return SVG(model_to_dot(model).create(prog='dot', format='svg'))\n",
    "\n",
    "\n",
    "def plot_training_curves(history):\n",
    "    \"\"\"\n",
    "    Plot accuracy and loss curves for training and validation sets.\n",
    "\n",
    "    Args:\n",
    "        history: a Keras History.history dictionary\n",
    "\n",
    "    Returns:\n",
    "        mpl figure.\n",
    "    \"\"\"\n",
    "    fig, (ax_acc, ax_loss) = plt.subplots(1, 2, figsize=(8,2))\n",
    "    if 'acc' in history:\n",
    "        ax_acc.plot(history['acc'], label='acc')\n",
    "        if 'val_acc' in history:\n",
    "            ax_acc.plot(history['val_acc'], label='Val acc')\n",
    "        ax_acc.set_xlabel('epoch')\n",
    "        ax_acc.set_ylabel('accuracy')\n",
    "        ax_acc.legend(loc='upper left')\n",
    "        ax_acc.set_title('Accuracy')\n",
    "\n",
    "    ax_loss.plot(history['loss'], label='loss')\n",
    "    if 'val_loss' in history:\n",
    "        ax_loss.plot(history['val_loss'], label='Val loss')\n",
    "    ax_loss.set_xlabel('epoch')\n",
    "    ax_loss.set_ylabel('loss')\n",
    "    ax_loss.legend(loc='upper right')\n",
    "    ax_loss.set_title('Loss')\n",
    "\n",
    "    sns.despine(fig)\n",
    "    return fig\n",
    "\n",
    "\n",
    "def plot_confusion_matrix(labels, predictions,\n",
    "                          classes,\n",
    "                          normalize=False,\n",
    "                          title=\"Confusion matrix\",\n",
    "                          cmap=plt.cm.Blues):\n",
    "    \"\"\"\n",
    "    Plot a confusion matrix for predictions vs labels.\n",
    "    Both should be one-hot.\n",
    "\n",
    "    Based on.\n",
    "    http://scikit-learn.org/stable/auto_examples/model_selection/plot_confusion_matrix.html\n",
    "    \"\"\"\n",
    "    # convert from one-hot\n",
    "    cat_labels = np.argmax(labels, axis=1)\n",
    "    cat_predicts = np.argmax(predictions, axis=1)\n",
    "\n",
    "    cm = confusion_matrix(cat_labels, cat_predicts)\n",
    "\n",
    "    if normalize:\n",
    "        cm = cm.astype('float') / cm.sum(axis=1)[:, np.newaxis]\n",
    "        print(\"Normalized confusion matrix\")\n",
    "    else:\n",
    "        print('Confusion matrix, without normalization')\n",
    "\n",
    "    plt.imshow(cm, interpolation='nearest', cmap=cmap)\n",
    "    plt.title(title)\n",
    "    plt.colorbar()\n",
    "    tick_marks = np.arange(len(classes))\n",
    "    plt.xticks(tick_marks, classes, rotation=45)\n",
    "    plt.yticks(tick_marks, classes)\n",
    "\n",
    "\n",
    "    #print(cm)\n",
    "\n",
    "    thresh = cm.max() / 2.\n",
    "    for i, j in it.product(range(cm.shape[0]), range(cm.shape[1])):\n",
    "        if 0 < cm[i,j] < 1:\n",
    "            val = \"{:.2f}\".format(cm[i,j])\n",
    "        else:\n",
    "            val = cm[i,j]\n",
    "        plt.text(j, i, val,\n",
    "                 horizontalalignment=\"center\",\n",
    "                 color=\"white\" if cm[i, j] > thresh else \"black\")\n",
    "\n",
    "    plt.tight_layout()\n",
    "    plt.ylabel('True label')\n",
    "    plt.xlabel('Predicted label')\n",
    "    return cm\n"
   ]
  },
  {
   "cell_type": "code",
   "execution_count": 4,
   "metadata": {},
   "outputs": [],
   "source": [
    "(X_train, Y_train), (X_test, Y_test) = cifar10.load_data()"
   ]
  },
  {
   "cell_type": "code",
   "execution_count": 5,
   "metadata": {
    "collapsed": true
   },
   "outputs": [],
   "source": [
    "X_train=X_train.astype('float32')\n",
    "X_test=X_test.astype('float32')\n",
    "X_train=X_train/255.0\n",
    "X_test=X_test/255.0"
   ]
  },
  {
   "cell_type": "code",
   "execution_count": 6,
   "metadata": {
    "collapsed": true
   },
   "outputs": [],
   "source": [
    "X_train=X_train.reshape(50000,3072)\n",
    "X_test=X_test.reshape(10000,3072)"
   ]
  },
  {
   "cell_type": "code",
   "execution_count": 7,
   "metadata": {
    "collapsed": true
   },
   "outputs": [],
   "source": [
    "Y_train = np_utils.to_categorical(Y_train,10)\n",
    "Y_test = np_utils.to_categorical(Y_test,10)\n"
   ]
  },
  {
   "cell_type": "code",
   "execution_count": null,
   "metadata": {
    "collapsed": true
   },
   "outputs": [],
   "source": [
    "epoch=100\n",
    "numClasses=Y_test.shape[1]\n",
    "batchSize=128"
   ]
  },
  {
   "cell_type": "code",
   "execution_count": null,
   "metadata": {},
   "outputs": [],
   "source": [
    "\n",
    "\n",
    "model = Sequential()\n",
    "model.add(Dense(1024, input_shape=(3072,), name=\"hidden\"))\n",
    "model.add(Activation('relu', name=\"ReLU\"))\n",
    "model.add(Dense(128, name=\"hidden1\"))\n",
    "model.add(Activation('softmax', name=\"ReLu\"))\n",
    "model.add(Dense(10, name=\"output\"))\n",
    "model.add(Activation('softmax', name=\"softmax\"))\n",
    "\n",
    "model.summary()\n"
   ]
  },
  {
   "cell_type": "code",
   "execution_count": null,
   "metadata": {
    "collapsed": true
   },
   "outputs": [],
   "source": [
    "model.compile(loss='categorical_crossentropy',\n",
    "              optimizer=RMSprop(),              \n",
    "              metrics=['accuracy'])"
   ]
  },
  {
   "cell_type": "code",
   "execution_count": null,
   "metadata": {},
   "outputs": [],
   "source": [
    "history= model.fit(X_train,Y_train, epochs=10, batch_size=128, verbose=1);\n",
    "plot_training_curves(history.history);\n"
   ]
  },
  {
   "cell_type": "code",
   "execution_count": null,
   "metadata": {
    "scrolled": true
   },
   "outputs": [],
   "source": [
    "score = model.evaluate(X_test,Y_test, verbose=1)\n",
    "print('Test score:', score[0])\n",
    "print('Test accuracy:', score[1])"
   ]
  },
  {
   "cell_type": "code",
   "execution_count": null,
   "metadata": {},
   "outputs": [],
   "source": [
    "history1= model.fit(X_train,Y_train, epochs=50, batch_size=128, verbose=1);\n",
    "#plot_training_curves((combine_histories(history.history, history1.history)));"
   ]
  },
  {
   "cell_type": "code",
   "execution_count": null,
   "metadata": {},
   "outputs": [],
   "source": [
    "score = model.evaluate(X_test,Y_test, verbose=1)\n",
    "print('Test loss:', score[0])\n",
    "print('Test accuracy:', score[1])"
   ]
  },
  {
   "cell_type": "code",
   "execution_count": null,
   "metadata": {},
   "outputs": [],
   "source": [
    "history2= model.fit(X_train,Y_train, epochs=100, batch_size=128, verbose=1);\n",
    "plot_training_curves(history2.history);\n"
   ]
  },
  {
   "cell_type": "code",
   "execution_count": null,
   "metadata": {},
   "outputs": [],
   "source": [
    "\n",
    "score = model.evaluate(X_test,Y_test, verbose=1)\n",
    "print('Test loss:', score[0])\n",
    "print('Test accuracy:', score[1])"
   ]
  },
  {
   "cell_type": "code",
   "execution_count": null,
   "metadata": {},
   "outputs": [],
   "source": [
    "history3= model.fit(X_train,Y_train, epochs=75, batch_size=128, verbose=1);\n",
    "plot_training_curves((combine_histories(history1.history,history3.history)));\n"
   ]
  },
  {
   "cell_type": "code",
   "execution_count": null,
   "metadata": {},
   "outputs": [],
   "source": [
    "score = model.evaluate(X_test,Y_test, verbose=1)\n",
    "print('Test loss:', score[0])\n",
    "print('Test accuracy:', score[1])"
   ]
  },
  {
   "cell_type": "code",
   "execution_count": null,
   "metadata": {},
   "outputs": [],
   "source": [
    "history= model.fit(X_train,Y_train, epochs=100, batch_size=64, verbose=1);\n",
    "plot_training_curves(history);"
   ]
  },
  {
   "cell_type": "code",
   "execution_count": null,
   "metadata": {},
   "outputs": [],
   "source": [
    "score = model.evaluate(X_test,Y_test, verbose=1)\n",
    "print('Test loss:', score[0])\n",
    "print('Test accuracy:', score[1])"
   ]
  },
  {
   "cell_type": "code",
   "execution_count": null,
   "metadata": {},
   "outputs": [],
   "source": [
    "history= model.fit(X_train,Y_train, epochs=100, batch_size=256, verbose=1);\n",
    "plot_training_curves(history.history);"
   ]
  },
  {
   "cell_type": "code",
   "execution_count": null,
   "metadata": {},
   "outputs": [],
   "source": [
    "score = model.evaluate(X_test,Y_test, verbose=1)\n",
    "print('Test loss:', score[0])\n",
    "print('Test accuracy:', score[1])"
   ]
  },
  {
   "cell_type": "code",
   "execution_count": null,
   "metadata": {},
   "outputs": [],
   "source": [
    "model1 = Sequential()\n",
    "model1.add(Dense(128,input_shape=(3072,), name=\"hidden1\"))\n",
    "model1.add(Activation('softmax', name=\"ReLu\"))\n",
    "model1.add(Dense(10, name=\"output\"))\n",
    "model1.add(Activation('softmax', name=\"softmax\"))\n",
    "\n",
    "model1.summary()\n"
   ]
  },
  {
   "cell_type": "code",
   "execution_count": null,
   "metadata": {},
   "outputs": [],
   "source": [
    "model1.compile(loss='categorical_crossentropy',\n",
    "              optimizer=RMSprop(),              \n",
    "              metrics=['accuracy'])"
   ]
  },
  {
   "cell_type": "code",
   "execution_count": null,
   "metadata": {},
   "outputs": [],
   "source": [
    "history= model1.fit(X_train,Y_train, epochs=100, batch_size=128, verbose=1);\n",
    "plot_training_curves(history.history);"
   ]
  },
  {
   "cell_type": "code",
   "execution_count": null,
   "metadata": {},
   "outputs": [],
   "source": [
    "score = model1.evaluate(X_test,Y_test, verbose=1)\n",
    "print('Test loss:', score[0])\n",
    "print('Test accuracy:', score[1])"
   ]
  },
  {
   "cell_type": "code",
   "execution_count": 8,
   "metadata": {},
   "outputs": [
    {
     "name": "stdout",
     "output_type": "stream",
     "text": [
      "_________________________________________________________________\n",
      "Layer (type)                 Output Shape              Param #   \n",
      "=================================================================\n",
      "hidden (Dense)               (None, 2048)              6293504   \n",
      "_________________________________________________________________\n",
      "Relu (Activation)            (None, 2048)              0         \n",
      "_________________________________________________________________\n",
      "hidden1 (Dense)              (None, 256)               524544    \n",
      "_________________________________________________________________\n",
      "ReLu (Activation)            (None, 256)               0         \n",
      "_________________________________________________________________\n",
      "output (Dense)               (None, 10)                2570      \n",
      "_________________________________________________________________\n",
      "softmax (Activation)         (None, 10)                0         \n",
      "=================================================================\n",
      "Total params: 6,820,618\n",
      "Trainable params: 6,820,618\n",
      "Non-trainable params: 0\n",
      "_________________________________________________________________\n"
     ]
    }
   ],
   "source": [
    "model2 = Sequential()\n",
    "model2.add(Dense(2048,input_shape=(3072,), name=\"hidden\"))\n",
    "model2.add(Activation('relu', name=\"Relu\"))\n",
    "model2.add(Dense(256, name=\"hidden1\"))\n",
    "model2.add(Activation('softmax', name=\"ReLu\"))\n",
    "model2.add(Dense(10, name=\"output\"))\n",
    "model2.add(Activation('softmax', name=\"softmax\"))\n",
    "\n",
    "model2.summary()\n"
   ]
  },
  {
   "cell_type": "code",
   "execution_count": null,
   "metadata": {},
   "outputs": [],
   "source": [
    "model2.compile(loss='categorical_crossentropy',\n",
    "              optimizer=RMSprop(),              \n",
    "              metrics=['accuracy'])"
   ]
  },
  {
   "cell_type": "code",
   "execution_count": 19,
   "metadata": {},
   "outputs": [
    {
     "name": "stdout",
     "output_type": "stream",
     "text": [
      "Epoch 1/100\n",
      "50000/50000 [==============================] - 22s - loss: 2.2966 - acc: 0.1178    \n",
      "Epoch 2/100\n",
      "50000/50000 [==============================] - 22s - loss: 2.2264 - acc: 0.1545    \n",
      "Epoch 3/100\n",
      "50000/50000 [==============================] - 22s - loss: 2.1719 - acc: 0.1632    \n",
      "Epoch 4/100\n",
      "50000/50000 [==============================] - 22s - loss: 2.1515 - acc: 0.1664    \n",
      "Epoch 5/100\n",
      "50000/50000 [==============================] - 22s - loss: 2.1510 - acc: 0.1669    \n",
      "Epoch 6/100\n",
      "50000/50000 [==============================] - 22s - loss: 2.1614 - acc: 0.1662    \n",
      "Epoch 7/100\n",
      "50000/50000 [==============================] - 22s - loss: 2.1303 - acc: 0.1741    \n",
      "Epoch 8/100\n",
      "50000/50000 [==============================] - 22s - loss: 2.1197 - acc: 0.1746    \n",
      "Epoch 9/100\n",
      "50000/50000 [==============================] - 23s - loss: 2.1209 - acc: 0.1739    \n",
      "Epoch 10/100\n",
      "50000/50000 [==============================] - 22s - loss: 2.1142 - acc: 0.1753    \n",
      "Epoch 11/100\n",
      "50000/50000 [==============================] - 22s - loss: 2.1113 - acc: 0.1748    \n",
      "Epoch 12/100\n",
      "50000/50000 [==============================] - 22s - loss: 2.1327 - acc: 0.1722    \n",
      "Epoch 13/100\n",
      "50000/50000 [==============================] - 22s - loss: 2.1066 - acc: 0.1774    \n",
      "Epoch 14/100\n",
      "50000/50000 [==============================] - 24s - loss: 2.1042 - acc: 0.1780    \n",
      "Epoch 15/100\n",
      "50000/50000 [==============================] - 25s - loss: 2.1182 - acc: 0.1733    \n",
      "Epoch 16/100\n",
      "50000/50000 [==============================] - 22s - loss: 2.1219 - acc: 0.1734    \n",
      "Epoch 17/100\n",
      "50000/50000 [==============================] - 22s - loss: 2.1054 - acc: 0.1785    \n",
      "Epoch 18/100\n",
      "50000/50000 [==============================] - 22s - loss: 2.0972 - acc: 0.1776    \n",
      "Epoch 19/100\n",
      "50000/50000 [==============================] - 23s - loss: 2.1020 - acc: 0.1781    \n",
      "Epoch 20/100\n",
      "50000/50000 [==============================] - 23s - loss: 2.1089 - acc: 0.1764    \n",
      "Epoch 21/100\n",
      "50000/50000 [==============================] - 22s - loss: 2.0970 - acc: 0.1764    \n",
      "Epoch 22/100\n",
      "50000/50000 [==============================] - 22s - loss: 2.0997 - acc: 0.1758    \n",
      "Epoch 23/100\n",
      "50000/50000 [==============================] - 21s - loss: 2.1201 - acc: 0.1734    \n",
      "Epoch 24/100\n",
      "50000/50000 [==============================] - 22s - loss: 2.1153 - acc: 0.1744    \n",
      "Epoch 25/100\n",
      "50000/50000 [==============================] - 24s - loss: 2.1013 - acc: 0.1783    \n",
      "Epoch 26/100\n",
      "50000/50000 [==============================] - 22s - loss: 2.0952 - acc: 0.1793    \n",
      "Epoch 27/100\n",
      "50000/50000 [==============================] - 22s - loss: 2.0913 - acc: 0.1805    \n",
      "Epoch 28/100\n",
      "50000/50000 [==============================] - 22s - loss: 2.0908 - acc: 0.1792    \n",
      "Epoch 29/100\n",
      "50000/50000 [==============================] - 22s - loss: 2.0926 - acc: 0.1787    \n",
      "Epoch 30/100\n",
      "50000/50000 [==============================] - 23s - loss: 2.0947 - acc: 0.1763    \n",
      "Epoch 31/100\n",
      "50000/50000 [==============================] - 23s - loss: 2.1081 - acc: 0.1753    \n",
      "Epoch 32/100\n",
      "50000/50000 [==============================] - 23s - loss: 2.1032 - acc: 0.1738    \n",
      "Epoch 33/100\n",
      "50000/50000 [==============================] - 22s - loss: 2.0946 - acc: 0.1771    \n",
      "Epoch 34/100\n",
      "50000/50000 [==============================] - 22s - loss: 2.1057 - acc: 0.1760    \n",
      "Epoch 35/100\n",
      "50000/50000 [==============================] - 22s - loss: 2.0879 - acc: 0.1785    \n",
      "Epoch 36/100\n",
      "50000/50000 [==============================] - 22s - loss: 2.0888 - acc: 0.1791    \n",
      "Epoch 37/100\n",
      "50000/50000 [==============================] - 22s - loss: 2.0921 - acc: 0.1769    \n",
      "Epoch 38/100\n",
      "50000/50000 [==============================] - 22s - loss: 2.0899 - acc: 0.1774    \n",
      "Epoch 39/100\n",
      "50000/50000 [==============================] - 22s - loss: 2.0877 - acc: 0.1768    \n",
      "Epoch 40/100\n",
      "50000/50000 [==============================] - 22s - loss: 2.0891 - acc: 0.1811    \n",
      "Epoch 41/100\n",
      "50000/50000 [==============================] - 22s - loss: 2.0888 - acc: 0.1794    \n",
      "Epoch 42/100\n",
      "50000/50000 [==============================] - 22s - loss: 2.0874 - acc: 0.1803    \n",
      "Epoch 43/100\n",
      "50000/50000 [==============================] - 22s - loss: 2.0932 - acc: 0.1793    \n",
      "Epoch 44/100\n",
      "50000/50000 [==============================] - 22s - loss: 2.0971 - acc: 0.1762    \n",
      "Epoch 45/100\n",
      "50000/50000 [==============================] - 22s - loss: 2.0832 - acc: 0.1809    \n",
      "Epoch 46/100\n",
      "50000/50000 [==============================] - 22s - loss: 2.0908 - acc: 0.1790    \n",
      "Epoch 47/100\n",
      "50000/50000 [==============================] - 22s - loss: 2.0847 - acc: 0.1800    \n",
      "Epoch 48/100\n",
      "50000/50000 [==============================] - 22s - loss: 2.0817 - acc: 0.1822    \n",
      "Epoch 49/100\n",
      "50000/50000 [==============================] - 22s - loss: 2.0872 - acc: 0.1797    \n",
      "Epoch 50/100\n",
      "50000/50000 [==============================] - 22s - loss: 2.0905 - acc: 0.1790    \n",
      "Epoch 51/100\n",
      "50000/50000 [==============================] - 22s - loss: 2.0929 - acc: 0.1781    \n",
      "Epoch 52/100\n",
      "50000/50000 [==============================] - 22s - loss: 2.1004 - acc: 0.1777    \n",
      "Epoch 53/100\n",
      "50000/50000 [==============================] - 22s - loss: 2.0802 - acc: 0.1801    \n",
      "Epoch 54/100\n",
      "50000/50000 [==============================] - 22s - loss: 2.0857 - acc: 0.1791    \n",
      "Epoch 55/100\n",
      "50000/50000 [==============================] - 22s - loss: 2.0903 - acc: 0.1791    \n",
      "Epoch 56/100\n",
      "50000/50000 [==============================] - 22s - loss: 2.0858 - acc: 0.1805    \n",
      "Epoch 57/100\n",
      "50000/50000 [==============================] - 22s - loss: 2.0874 - acc: 0.1794    \n",
      "Epoch 58/100\n",
      "50000/50000 [==============================] - 22s - loss: 2.1198 - acc: 0.1729    \n",
      "Epoch 59/100\n",
      "50000/50000 [==============================] - 22s - loss: 2.1192 - acc: 0.1717    \n",
      "Epoch 60/100\n",
      "50000/50000 [==============================] - 22s - loss: 2.1269 - acc: 0.1706    \n",
      "Epoch 61/100\n",
      "50000/50000 [==============================] - 22s - loss: 2.1126 - acc: 0.1738    \n",
      "Epoch 62/100\n",
      "50000/50000 [==============================] - 22s - loss: 2.1165 - acc: 0.1720    \n",
      "Epoch 63/100\n",
      "50000/50000 [==============================] - 22s - loss: 2.1433 - acc: 0.1661    \n",
      "Epoch 64/100\n",
      "50000/50000 [==============================] - 22s - loss: 2.0996 - acc: 0.1766    \n",
      "Epoch 65/100\n",
      "50000/50000 [==============================] - 22s - loss: 2.0829 - acc: 0.1812    \n",
      "Epoch 66/100\n",
      "50000/50000 [==============================] - 22s - loss: 2.0898 - acc: 0.1784    \n",
      "Epoch 67/100\n",
      "50000/50000 [==============================] - 21s - loss: 2.0853 - acc: 0.1801    \n",
      "Epoch 68/100\n",
      "50000/50000 [==============================] - 21s - loss: 2.0848 - acc: 0.1794    \n",
      "Epoch 69/100\n",
      "50000/50000 [==============================] - 22s - loss: 2.0833 - acc: 0.1804    \n",
      "Epoch 70/100\n",
      "50000/50000 [==============================] - 22s - loss: 2.0831 - acc: 0.1820    \n",
      "Epoch 71/100\n",
      "50000/50000 [==============================] - 22s - loss: 2.0823 - acc: 0.1784    \n",
      "Epoch 72/100\n",
      "50000/50000 [==============================] - 22s - loss: 2.0815 - acc: 0.1808    \n",
      "Epoch 73/100\n",
      "50000/50000 [==============================] - 22s - loss: 2.0960 - acc: 0.1768    \n",
      "Epoch 74/100\n",
      "50000/50000 [==============================] - 22s - loss: 2.1106 - acc: 0.1767    \n",
      "Epoch 75/100\n",
      "50000/50000 [==============================] - 22s - loss: 2.0758 - acc: 0.1809    \n",
      "Epoch 76/100\n",
      "50000/50000 [==============================] - 22s - loss: 2.0864 - acc: 0.1799    \n",
      "Epoch 77/100\n",
      "50000/50000 [==============================] - 22s - loss: 2.0871 - acc: 0.1773    \n",
      "Epoch 78/100\n",
      "50000/50000 [==============================] - 22s - loss: 2.1230 - acc: 0.1725    \n",
      "Epoch 79/100\n",
      "50000/50000 [==============================] - 22s - loss: 2.1422 - acc: 0.1663    \n",
      "Epoch 80/100\n",
      "50000/50000 [==============================] - 22s - loss: 2.1163 - acc: 0.1718    \n",
      "Epoch 81/100\n",
      "50000/50000 [==============================] - 22s - loss: 2.0927 - acc: 0.1783    \n",
      "Epoch 82/100\n",
      "50000/50000 [==============================] - 22s - loss: 2.0859 - acc: 0.1814    \n",
      "Epoch 83/100\n",
      "50000/50000 [==============================] - 22s - loss: 2.0913 - acc: 0.1782    \n",
      "Epoch 84/100\n",
      "50000/50000 [==============================] - 21s - loss: 2.0969 - acc: 0.1795    \n",
      "Epoch 85/100\n",
      "50000/50000 [==============================] - 22s - loss: 2.0795 - acc: 0.1826    \n",
      "Epoch 86/100\n",
      "50000/50000 [==============================] - 22s - loss: 2.0834 - acc: 0.1798    \n",
      "Epoch 87/100\n",
      "50000/50000 [==============================] - 22s - loss: 2.0816 - acc: 0.1835    \n",
      "Epoch 88/100\n",
      "50000/50000 [==============================] - 22s - loss: 2.0848 - acc: 0.1814    \n",
      "Epoch 89/100\n",
      "50000/50000 [==============================] - 22s - loss: 2.0880 - acc: 0.1802    \n",
      "Epoch 90/100\n",
      "50000/50000 [==============================] - 22s - loss: 2.1016 - acc: 0.1760    \n",
      "Epoch 91/100\n",
      "50000/50000 [==============================] - 22s - loss: 2.1079 - acc: 0.1733    \n",
      "Epoch 92/100\n",
      "50000/50000 [==============================] - 22s - loss: 2.1074 - acc: 0.1748    \n",
      "Epoch 93/100\n",
      "50000/50000 [==============================] - 22s - loss: 2.1104 - acc: 0.1754    \n",
      "Epoch 94/100\n",
      "50000/50000 [==============================] - 22s - loss: 2.1123 - acc: 0.1742    \n",
      "Epoch 95/100\n",
      "50000/50000 [==============================] - 21s - loss: 2.1292 - acc: 0.1693    \n",
      "Epoch 96/100\n",
      "50000/50000 [==============================] - 21s - loss: 2.0868 - acc: 0.1804    \n",
      "Epoch 97/100\n",
      "50000/50000 [==============================] - 22s - loss: 2.0989 - acc: 0.1761    \n",
      "Epoch 98/100\n",
      "50000/50000 [==============================] - 21s - loss: 2.1010 - acc: 0.1750    \n",
      "Epoch 99/100\n",
      "50000/50000 [==============================] - 21s - loss: 2.0863 - acc: 0.1819    \n",
      "Epoch 100/100\n",
      "50000/50000 [==============================] - 22s - loss: 2.0906 - acc: 0.1802    \n"
     ]
    },
    {
     "data": {
      "image/png": "[encoded data removed]",
      "text/plain": [
       "<matplotlib.figure.Figure at 0x7fdd8cfa0f60>"
      ]
     },
     "metadata": {},
     "output_type": "display_data"
    }
   ],
   "source": [
    "history= model2.fit(X_train,Y_train, epochs=100, batch_size=128, verbose=1);\n",
    "plot_training_curves(history.history);"
   ]
  },
  {
   "cell_type": "code",
   "execution_count": 20,
   "metadata": {},
   "outputs": [
    {
     "name": "stdout",
     "output_type": "stream",
     "text": [
      " 9984/10000 [============================>.] - ETA: 0sTest loss: 2.07017459488\n",
      "Test accuracy: 0.1812\n"
     ]
    }
   ],
   "source": [
    "score = model2.evaluate(X_test,Y_test, verbose=1)\n",
    "print('Test loss:', score[0])\n",
    "print('Test accuracy:', score[1])"
   ]
  },
  {
   "cell_type": "code",
   "execution_count": 18,
   "metadata": {},
   "outputs": [],
   "source": [
    "model2.compile(loss='categorical_crossentropy',\n",
    "              optimizer=RMSprop(),              \n",
    "              metrics=['accuracy'])"
   ]
  },
  {
   "cell_type": "code",
   "execution_count": 17,
   "metadata": {},
   "outputs": [
    {
     "name": "stdout",
     "output_type": "stream",
     "text": [
      "_________________________________________________________________\n",
      "Layer (type)                 Output Shape              Param #   \n",
      "=================================================================\n",
      "hidden (Dense)               (None, 2048)              6293504   \n",
      "_________________________________________________________________\n",
      "Relu (Activation)            (None, 2048)              0         \n",
      "_________________________________________________________________\n",
      "dropout_1 (Dropout)          (None, 2048)              0         \n",
      "_________________________________________________________________\n",
      "hidden1 (Dense)              (None, 256)               524544    \n",
      "_________________________________________________________________\n",
      "ReLu (Activation)            (None, 256)               0         \n",
      "_________________________________________________________________\n",
      "output (Dense)               (None, 10)                2570      \n",
      "_________________________________________________________________\n",
      "softmax (Activation)         (None, 10)                0         \n",
      "=================================================================\n",
      "Total params: 6,820,618\n",
      "Trainable params: 6,820,618\n",
      "Non-trainable params: 0\n",
      "_________________________________________________________________\n"
     ]
    }
   ],
   "source": [
    "model2 = Sequential()\n",
    "model2.add(Dense(2048,input_shape=(3072,), name=\"hidden\"))\n",
    "model2.add(Activation('relu', name=\"Relu\"))\n",
    "model2.add(Dropout(0.25))\n",
    "model2.add(Dense(256, name=\"hidden1\"))\n",
    "model2.add(Activation('softmax', name=\"ReLu\"))\n",
    "model2.add(Dense(10, name=\"output\"))\n",
    "model2.add(Activation('softmax', name=\"softmax\"))\n",
    "\n",
    "model2.summary()\n"
   ]
  },
  {
   "cell_type": "code",
   "execution_count": null,
   "metadata": {
    "collapsed": true
   },
   "outputs": [],
   "source": [
    "model2.compile(loss='categorical_crossentropy',\n",
    "              optimizer=RMSprop(),              \n",
    "              metrics=['accuracy'])"
   ]
  },
  {
   "cell_type": "code",
   "execution_count": 22,
   "metadata": {},
   "outputs": [
    {
     "name": "stdout",
     "output_type": "stream",
     "text": [
      "_________________________________________________________________\n",
      "Layer (type)                 Output Shape              Param #   \n",
      "=================================================================\n",
      "hidden (Dense)               (None, 2048)              6293504   \n",
      "_________________________________________________________________\n",
      "Relu (Activation)            (None, 2048)              0         \n",
      "_________________________________________________________________\n",
      "hidden1 (Dense)              (None, 256)               524544    \n",
      "_________________________________________________________________\n",
      "ReLu (Activation)            (None, 256)               0         \n",
      "_________________________________________________________________\n",
      "output (Dense)               (None, 10)                2570      \n",
      "_________________________________________________________________\n",
      "softmax (Activation)         (None, 10)                0         \n",
      "=================================================================\n",
      "Total params: 6,820,618\n",
      "Trainable params: 6,820,618\n",
      "Non-trainable params: 0\n",
      "_________________________________________________________________\n"
     ]
    }
   ],
   "source": [
    "final_model = Sequential()\n",
    "final_model.add(Dense(2048,input_shape=(3072,), name=\"hidden\"))\n",
    "final_model.add(Activation('relu', name=\"Relu\"))\n",
    "final_model.add(Dense(256, name=\"hidden1\"))\n",
    "final_model.add(Activation('softmax', name=\"ReLu\"))\n",
    "final_model.add(Dense(10, name=\"output\"))\n",
    "final_model.add(Activation('softmax', name=\"softmax\"))\n",
    "\n",
    "final_model.summary()\n",
    "final_model.compile(loss='categorical_crossentropy',\n",
    "              optimizer=RMSprop(),              \n",
    "              metrics=['accuracy'])"
   ]
  },
  {
   "cell_type": "code",
   "execution_count": 23,
   "metadata": {},
   "outputs": [
    {
     "name": "stdout",
     "output_type": "stream",
     "text": [
      "Epoch 1/100\n",
      "50000/50000 [==============================] - 21s - loss: 2.3034 - acc: 0.0989    \n",
      "Epoch 2/100\n",
      "50000/50000 [==============================] - 21s - loss: 2.3028 - acc: 0.0997    \n",
      "Epoch 3/100\n",
      "50000/50000 [==============================] - 21s - loss: 2.3027 - acc: 0.0987    \n",
      "Epoch 4/100\n",
      "50000/50000 [==============================] - 20s - loss: 2.3028 - acc: 0.0987    \n",
      "Epoch 5/100\n",
      "50000/50000 [==============================] - 21s - loss: 2.3027 - acc: 0.0995    \n",
      "Epoch 6/100\n",
      "50000/50000 [==============================] - 21s - loss: 2.3027 - acc: 0.0999    \n",
      "Epoch 7/100\n",
      "50000/50000 [==============================] - 21s - loss: 2.3030 - acc: 0.0981    \n",
      "Epoch 8/100\n",
      "50000/50000 [==============================] - 21s - loss: 2.3032 - acc: 0.0980    \n",
      "Epoch 9/100\n",
      "50000/50000 [==============================] - 21s - loss: 2.3028 - acc: 0.0989    \n",
      "Epoch 10/100\n",
      "50000/50000 [==============================] - 20s - loss: 2.3028 - acc: 0.0971    \n",
      "Epoch 11/100\n",
      "50000/50000 [==============================] - 21s - loss: 2.3028 - acc: 0.0979    \n",
      "Epoch 12/100\n",
      "50000/50000 [==============================] - 21s - loss: 2.3028 - acc: 0.0996    \n",
      "Epoch 13/100\n",
      "50000/50000 [==============================] - 20s - loss: 2.3027 - acc: 0.0992    \n",
      "Epoch 14/100\n",
      "50000/50000 [==============================] - 20s - loss: 2.3028 - acc: 0.0974    \n",
      "Epoch 15/100\n",
      "50000/50000 [==============================] - 21s - loss: 2.3028 - acc: 0.0960    \n",
      "Epoch 16/100\n",
      "50000/50000 [==============================] - 21s - loss: 2.3028 - acc: 0.0988    \n",
      "Epoch 17/100\n",
      "50000/50000 [==============================] - 20s - loss: 2.3028 - acc: 0.0981    \n",
      "Epoch 18/100\n",
      "50000/50000 [==============================] - 21s - loss: 2.3028 - acc: 0.0983    \n",
      "Epoch 19/100\n",
      "50000/50000 [==============================] - 21s - loss: 2.3028 - acc: 0.0979    \n",
      "Epoch 20/100\n",
      "50000/50000 [==============================] - 21s - loss: 2.3028 - acc: 0.0966    \n",
      "Epoch 21/100\n",
      "50000/50000 [==============================] - 21s - loss: 2.3028 - acc: 0.0983    \n",
      "Epoch 22/100\n",
      "50000/50000 [==============================] - 21s - loss: 2.3027 - acc: 0.1003    \n",
      "Epoch 23/100\n",
      "50000/50000 [==============================] - 21s - loss: 2.3028 - acc: 0.0994    \n",
      "Epoch 24/100\n",
      "50000/50000 [==============================] - 21s - loss: 2.3033 - acc: 0.1019    \n",
      "Epoch 25/100\n",
      "50000/50000 [==============================] - 21s - loss: 2.3030 - acc: 0.0963    \n",
      "Epoch 26/100\n",
      "50000/50000 [==============================] - 21s - loss: 2.3028 - acc: 0.0986    \n",
      "Epoch 27/100\n",
      "50000/50000 [==============================] - 21s - loss: 2.3028 - acc: 0.0981    \n",
      "Epoch 28/100\n",
      "50000/50000 [==============================] - 20s - loss: 2.3028 - acc: 0.0962    \n",
      "Epoch 29/100\n",
      "50000/50000 [==============================] - 21s - loss: 2.3030 - acc: 0.0993    \n",
      "Epoch 30/100\n",
      "50000/50000 [==============================] - 21s - loss: 2.3028 - acc: 0.0973    \n",
      "Epoch 31/100\n",
      "50000/50000 [==============================] - 21s - loss: 2.3028 - acc: 0.0976    \n",
      "Epoch 32/100\n",
      "50000/50000 [==============================] - 21s - loss: 2.3028 - acc: 0.0991    \n",
      "Epoch 33/100\n",
      "50000/50000 [==============================] - 20s - loss: 2.3028 - acc: 0.1000    \n",
      "Epoch 34/100\n",
      "50000/50000 [==============================] - 20s - loss: 2.3027 - acc: 0.0966    \n",
      "Epoch 35/100\n",
      "50000/50000 [==============================] - 20s - loss: 2.3028 - acc: 0.0987    \n",
      "Epoch 36/100\n",
      "50000/50000 [==============================] - 20s - loss: 2.3031 - acc: 0.0989    \n",
      "Epoch 37/100\n",
      "50000/50000 [==============================] - 20s - loss: 2.3030 - acc: 0.0980    \n",
      "Epoch 38/100\n",
      "50000/50000 [==============================] - 21s - loss: 2.3027 - acc: 0.1001    \n",
      "Epoch 39/100\n",
      "50000/50000 [==============================] - 21s - loss: 2.3028 - acc: 0.0979    \n",
      "Epoch 40/100\n",
      "50000/50000 [==============================] - 21s - loss: 2.3028 - acc: 0.0969    \n",
      "Epoch 41/100\n",
      "50000/50000 [==============================] - 21s - loss: 2.3028 - acc: 0.0991    \n",
      "Epoch 42/100\n",
      "50000/50000 [==============================] - 21s - loss: 2.3028 - acc: 0.0971    \n",
      "Epoch 43/100\n",
      "50000/50000 [==============================] - 21s - loss: 2.3028 - acc: 0.0971    \n",
      "Epoch 44/100\n",
      "50000/50000 [==============================] - 21s - loss: 2.3028 - acc: 0.0983    \n",
      "Epoch 45/100\n",
      "50000/50000 [==============================] - 21s - loss: 2.3027 - acc: 0.1002    \n",
      "Epoch 46/100\n",
      "50000/50000 [==============================] - 21s - loss: 2.3028 - acc: 0.1005    \n",
      "Epoch 47/100\n",
      "50000/50000 [==============================] - 21s - loss: 2.3028 - acc: 0.0974    \n",
      "Epoch 48/100\n",
      "50000/50000 [==============================] - 21s - loss: 2.3028 - acc: 0.0969    \n",
      "Epoch 49/100\n",
      "50000/50000 [==============================] - 21s - loss: 2.3028 - acc: 0.0977    \n",
      "Epoch 50/100\n",
      "50000/50000 [==============================] - 21s - loss: 2.3028 - acc: 0.0989    \n",
      "Epoch 51/100\n",
      "50000/50000 [==============================] - 21s - loss: 2.3028 - acc: 0.0974    \n",
      "Epoch 52/100\n",
      "50000/50000 [==============================] - 21s - loss: 2.3028 - acc: 0.0990    \n",
      "Epoch 53/100\n",
      "50000/50000 [==============================] - 20s - loss: 2.3028 - acc: 0.0973    \n",
      "Epoch 54/100\n",
      "50000/50000 [==============================] - 21s - loss: 2.3028 - acc: 0.0986    \n",
      "Epoch 55/100\n",
      "50000/50000 [==============================] - 21s - loss: 2.3028 - acc: 0.0970    \n",
      "Epoch 56/100\n",
      "50000/50000 [==============================] - 21s - loss: 2.3028 - acc: 0.0982    \n",
      "Epoch 57/100\n",
      "50000/50000 [==============================] - 21s - loss: 2.3028 - acc: 0.0980    \n",
      "Epoch 58/100\n",
      "50000/50000 [==============================] - 21s - loss: 2.3028 - acc: 0.0977    \n",
      "Epoch 59/100\n",
      "50000/50000 [==============================] - 21s - loss: 2.3028 - acc: 0.0972    \n",
      "Epoch 60/100\n",
      "50000/50000 [==============================] - 21s - loss: 2.3028 - acc: 0.0984    \n",
      "Epoch 61/100\n",
      "50000/50000 [==============================] - 21s - loss: 2.3028 - acc: 0.0966    \n",
      "Epoch 62/100\n",
      "50000/50000 [==============================] - 21s - loss: 2.3027 - acc: 0.0980    \n",
      "Epoch 63/100\n",
      "50000/50000 [==============================] - 21s - loss: 2.3033 - acc: 0.0997    \n",
      "Epoch 64/100\n",
      "50000/50000 [==============================] - 21s - loss: 2.3029 - acc: 0.0985    \n",
      "Epoch 65/100\n",
      "50000/50000 [==============================] - 21s - loss: 2.3028 - acc: 0.0979    \n",
      "Epoch 66/100\n",
      "50000/50000 [==============================] - 21s - loss: 2.3028 - acc: 0.0977    \n",
      "Epoch 67/100\n",
      "50000/50000 [==============================] - 21s - loss: 2.3011 - acc: 0.1054    \n",
      "Epoch 68/100\n",
      "50000/50000 [==============================] - 21s - loss: 2.2357 - acc: 0.1551    \n",
      "Epoch 69/100\n",
      "50000/50000 [==============================] - 20s - loss: 2.1694 - acc: 0.1697    \n",
      "Epoch 70/100\n",
      "50000/50000 [==============================] - 20s - loss: 2.1275 - acc: 0.1748    \n",
      "Epoch 71/100\n",
      "50000/50000 [==============================] - 21s - loss: 2.1029 - acc: 0.1826    \n",
      "Epoch 72/100\n",
      "50000/50000 [==============================] - 21s - loss: 2.0865 - acc: 0.1848    \n",
      "Epoch 73/100\n",
      "50000/50000 [==============================] - 21s - loss: 2.0684 - acc: 0.1942    \n",
      "Epoch 74/100\n",
      "50000/50000 [==============================] - 21s - loss: 2.0473 - acc: 0.2036    \n",
      "Epoch 75/100\n",
      "50000/50000 [==============================] - 25s - loss: 2.0188 - acc: 0.2140    \n",
      "Epoch 76/100\n",
      "50000/50000 [==============================] - 29s - loss: 2.0031 - acc: 0.2282    \n",
      "Epoch 77/100\n",
      "50000/50000 [==============================] - 30s - loss: 1.9721 - acc: 0.2445    \n",
      "Epoch 78/100\n",
      "50000/50000 [==============================] - 29s - loss: 1.9369 - acc: 0.2630    \n",
      "Epoch 79/100\n",
      "50000/50000 [==============================] - 29s - loss: 1.9057 - acc: 0.2769    \n",
      "Epoch 80/100\n",
      "50000/50000 [==============================] - 29s - loss: 1.8752 - acc: 0.2942    \n",
      "Epoch 81/100\n",
      "50000/50000 [==============================] - 28s - loss: 1.8422 - acc: 0.3122    \n",
      "Epoch 82/100\n",
      "50000/50000 [==============================] - 29s - loss: 1.8081 - acc: 0.3268    \n",
      "Epoch 83/100\n",
      "50000/50000 [==============================] - 29s - loss: 1.7727 - acc: 0.3490    \n",
      "Epoch 84/100\n",
      "50000/50000 [==============================] - 29s - loss: 1.7320 - acc: 0.3750    \n",
      "Epoch 85/100\n",
      "50000/50000 [==============================] - 29s - loss: 1.6970 - acc: 0.3975    \n",
      "Epoch 86/100\n",
      "50000/50000 [==============================] - 28s - loss: 1.6627 - acc: 0.4134    \n",
      "Epoch 87/100\n",
      "50000/50000 [==============================] - 27s - loss: 1.6304 - acc: 0.4291    \n",
      "Epoch 88/100\n",
      "50000/50000 [==============================] - 21s - loss: 1.5991 - acc: 0.4421    \n",
      "Epoch 89/100\n",
      "50000/50000 [==============================] - 21s - loss: 1.5702 - acc: 0.4518    \n",
      "Epoch 90/100\n",
      "50000/50000 [==============================] - 21s - loss: 1.5469 - acc: 0.4619    \n",
      "Epoch 91/100\n",
      "50000/50000 [==============================] - 21s - loss: 1.5272 - acc: 0.4711    \n",
      "Epoch 92/100\n",
      "50000/50000 [==============================] - 21s - loss: 1.5068 - acc: 0.4774    \n",
      "Epoch 93/100\n",
      "50000/50000 [==============================] - 21s - loss: 1.4876 - acc: 0.4891    \n",
      "Epoch 94/100\n",
      "50000/50000 [==============================] - 21s - loss: 1.4684 - acc: 0.4964    \n",
      "Epoch 95/100\n",
      "50000/50000 [==============================] - 21s - loss: 1.4505 - acc: 0.4995    \n",
      "Epoch 96/100\n",
      "50000/50000 [==============================] - 21s - loss: 1.4321 - acc: 0.5098    \n",
      "Epoch 97/100\n",
      "50000/50000 [==============================] - 21s - loss: 1.4181 - acc: 0.5146    \n",
      "Epoch 98/100\n",
      "50000/50000 [==============================] - 21s - loss: 1.4059 - acc: 0.5215    \n",
      "Epoch 99/100\n",
      "50000/50000 [==============================] - 21s - loss: 1.3909 - acc: 0.5252    \n",
      "Epoch 100/100\n",
      "50000/50000 [==============================] - 20s - loss: 1.3769 - acc: 0.5321    \n",
      " 9920/10000 [============================>.] - ETA: 0sTest loss: 1.54439687462\n",
      "Test accuracy: 0.4721\n"
     ]
    },
    {
     "data": {
      "image/png": "[encoded data removed]",
      "text/plain": [
       "<matplotlib.figure.Figure at 0x7fddd46444e0>"
      ]
     },
     "metadata": {},
     "output_type": "display_data"
    }
   ],
   "source": [
    "history= final_model.fit(X_train,Y_train, epochs=100, batch_size=128, verbose=1);\n",
    "plot_training_curves(history.history);\n",
    "score = final_model.evaluate(X_test,Y_test, verbose=1)\n",
    "print('Test loss:', score[0])\n",
    "print('Test accuracy:', score[1])"
   ]
  },
  {
   "cell_type": "code",
   "execution_count": null,
   "metadata": {
    "collapsed": true
   },
   "outputs": [],
   "source": []
  }
 ],
 "metadata": {
  "kernelspec": {
   "display_name": "Python 3.5 (Experimental) with Spark 1.6",
   "language": "python",
   "name": "python3"
  },
  "language_info": {
   "codemirror_mode": {
    "name": "ipython",
    "version": 3
   },
   "file_extension": ".py",
   "mimetype": "text/x-python",
   "name": "python",
   "nbconvert_exporter": "python",
   "pygments_lexer": "ipython3",
   "version": "3.5.2"
  }
 },
 "nbformat": 4,
 "nbformat_minor": 2
}
